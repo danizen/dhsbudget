{
 "cells": [
  {
   "cell_type": "markdown",
   "metadata": {},
   "source": [
    "## Import the CSV data into the program"
   ]
  },
  {
   "cell_type": "markdown",
   "metadata": {},
   "source": [
    "Import standard Python data analysis tools"
   ]
  },
  {
   "cell_type": "code",
   "execution_count": 3,
   "metadata": {},
   "outputs": [],
   "source": [
    "import numpy as np\n",
    "import pandas as pd\n",
    "import matplotlib as plt"
   ]
  },
  {
   "cell_type": "markdown",
   "metadata": {},
   "source": [
    "Read the CSV, with the year column as the index"
   ]
  },
  {
   "cell_type": "code",
   "execution_count": 4,
   "metadata": {},
   "outputs": [
    {
     "data": {
      "text/html": [
       "<div>\n",
       "<style scoped>\n",
       "    .dataframe tbody tr th:only-of-type {\n",
       "        vertical-align: middle;\n",
       "    }\n",
       "\n",
       "    .dataframe tbody tr th {\n",
       "        vertical-align: top;\n",
       "    }\n",
       "\n",
       "    .dataframe thead th {\n",
       "        text-align: right;\n",
       "    }\n",
       "</style>\n",
       "<table border=\"1\" class=\"dataframe\">\n",
       "  <thead>\n",
       "    <tr style=\"text-align: right;\">\n",
       "      <th></th>\n",
       "      <th>CBP</th>\n",
       "      <th>DHS Net</th>\n",
       "      <th>DHS Total</th>\n",
       "      <th>FEMA</th>\n",
       "      <th>ICE</th>\n",
       "      <th>TSA</th>\n",
       "    </tr>\n",
       "    <tr>\n",
       "      <th>Year</th>\n",
       "      <th></th>\n",
       "      <th></th>\n",
       "      <th></th>\n",
       "      <th></th>\n",
       "      <th></th>\n",
       "      <th></th>\n",
       "    </tr>\n",
       "  </thead>\n",
       "  <tbody>\n",
       "    <tr>\n",
       "      <th>2008</th>\n",
       "      <td>100.00%</td>\n",
       "      <td>100.00%</td>\n",
       "      <td>100.00%</td>\n",
       "      <td>106.05%</td>\n",
       "      <td>100.00%</td>\n",
       "      <td>100.00%</td>\n",
       "    </tr>\n",
       "    <tr>\n",
       "      <th>2009</th>\n",
       "      <td>108.59%</td>\n",
       "      <td>104.68%</td>\n",
       "      <td>106.06%</td>\n",
       "      <td>100.00%</td>\n",
       "      <td>121.13%</td>\n",
       "      <td>102.34%</td>\n",
       "    </tr>\n",
       "    <tr>\n",
       "      <th>2010</th>\n",
       "      <td>128.14%</td>\n",
       "      <td>111.60%</td>\n",
       "      <td>114.95%</td>\n",
       "      <td>118.77%</td>\n",
       "      <td>128.33%</td>\n",
       "      <td>108.40%</td>\n",
       "    </tr>\n",
       "    <tr>\n",
       "      <th>2011</th>\n",
       "      <td>152.21%</td>\n",
       "      <td>125.04%</td>\n",
       "      <td>125.50%</td>\n",
       "      <td>126.06%</td>\n",
       "      <td>148.55%</td>\n",
       "      <td>109.13%</td>\n",
       "    </tr>\n",
       "    <tr>\n",
       "      <th>2012</th>\n",
       "      <td>152.97%</td>\n",
       "      <td>129.79%</td>\n",
       "      <td>130.68%</td>\n",
       "      <td>128.25%</td>\n",
       "      <td>140.03%</td>\n",
       "      <td>117.06%</td>\n",
       "    </tr>\n",
       "    <tr>\n",
       "      <th>2013</th>\n",
       "      <td>146.47%</td>\n",
       "      <td>126.78%</td>\n",
       "      <td>125.64%</td>\n",
       "      <td>143.77%</td>\n",
       "      <td>139.12%</td>\n",
       "      <td>115.50%</td>\n",
       "    </tr>\n",
       "    <tr>\n",
       "      <th>2014</th>\n",
       "      <td>150.94%</td>\n",
       "      <td>137.04%</td>\n",
       "      <td>135.22%</td>\n",
       "      <td>232.67%</td>\n",
       "      <td>141.02%</td>\n",
       "      <td>116.09%</td>\n",
       "    </tr>\n",
       "    <tr>\n",
       "      <th>2015</th>\n",
       "      <td>149.05%</td>\n",
       "      <td>111.65%</td>\n",
       "      <td>132.33%</td>\n",
       "      <td>235.12%</td>\n",
       "      <td>131.49%</td>\n",
       "      <td>105.38%</td>\n",
       "    </tr>\n",
       "    <tr>\n",
       "      <th>2016</th>\n",
       "      <td>155.96%</td>\n",
       "      <td>115.12%</td>\n",
       "      <td>133.04%</td>\n",
       "      <td>212.22%</td>\n",
       "      <td>136.93%</td>\n",
       "      <td>107.10%</td>\n",
       "    </tr>\n",
       "    <tr>\n",
       "      <th>2017</th>\n",
       "      <td>157.13%</td>\n",
       "      <td>112.56%</td>\n",
       "      <td>137.15%</td>\n",
       "      <td>249.95%</td>\n",
       "      <td>139.77%</td>\n",
       "      <td>104.42%</td>\n",
       "    </tr>\n",
       "    <tr>\n",
       "      <th>2018</th>\n",
       "      <td>160.41%</td>\n",
       "      <td>114.75%</td>\n",
       "      <td>139.45%</td>\n",
       "      <td>295.81%</td>\n",
       "      <td>137.12%</td>\n",
       "      <td>104.98%</td>\n",
       "    </tr>\n",
       "  </tbody>\n",
       "</table>\n",
       "</div>"
      ],
      "text/plain": [
       "          CBP  DHS Net DHS Total     FEMA      ICE      TSA\n",
       "Year                                                       \n",
       "2008  100.00%  100.00%   100.00%  106.05%  100.00%  100.00%\n",
       "2009  108.59%  104.68%   106.06%  100.00%  121.13%  102.34%\n",
       "2010  128.14%  111.60%   114.95%  118.77%  128.33%  108.40%\n",
       "2011  152.21%  125.04%   125.50%  126.06%  148.55%  109.13%\n",
       "2012  152.97%  129.79%   130.68%  128.25%  140.03%  117.06%\n",
       "2013  146.47%  126.78%   125.64%  143.77%  139.12%  115.50%\n",
       "2014  150.94%  137.04%   135.22%  232.67%  141.02%  116.09%\n",
       "2015  149.05%  111.65%   132.33%  235.12%  131.49%  105.38%\n",
       "2016  155.96%  115.12%   133.04%  212.22%  136.93%  107.10%\n",
       "2017  157.13%  112.56%   137.15%  249.95%  139.77%  104.42%\n",
       "2018  160.41%  114.75%   139.45%  295.81%  137.12%  104.98%"
      ]
     },
     "execution_count": 4,
     "metadata": {},
     "output_type": "execute_result"
    }
   ],
   "source": [
    "df = pd.read_csv('dhsbudget-output.csv', index_col='Year')\n",
    "df"
   ]
  },
  {
   "cell_type": "markdown",
   "metadata": {},
   "source": [
    "Problem here is that data are strings - we need to convert each data column to a floating point number."
   ]
  },
  {
   "cell_type": "code",
   "execution_count": 5,
   "metadata": {},
   "outputs": [
    {
     "data": {
      "text/plain": [
       "{1: <function __main__.<lambda>(s)>,\n",
       " 2: <function __main__.<lambda>(s)>,\n",
       " 3: <function __main__.<lambda>(s)>,\n",
       " 4: <function __main__.<lambda>(s)>,\n",
       " 5: <function __main__.<lambda>(s)>,\n",
       " 6: <function __main__.<lambda>(s)>}"
      ]
     },
     "execution_count": 5,
     "metadata": {},
     "output_type": "execute_result"
    }
   ],
   "source": [
    "convert_data = lambda s: float(s[:-1])\n",
    "converters = dict(zip(range(1, 7), [convert_data]*6))\n",
    "converters"
   ]
  },
  {
   "cell_type": "code",
   "execution_count": 6,
   "metadata": {},
   "outputs": [
    {
     "data": {
      "text/html": [
       "<div>\n",
       "<style scoped>\n",
       "    .dataframe tbody tr th:only-of-type {\n",
       "        vertical-align: middle;\n",
       "    }\n",
       "\n",
       "    .dataframe tbody tr th {\n",
       "        vertical-align: top;\n",
       "    }\n",
       "\n",
       "    .dataframe thead th {\n",
       "        text-align: right;\n",
       "    }\n",
       "</style>\n",
       "<table border=\"1\" class=\"dataframe\">\n",
       "  <thead>\n",
       "    <tr style=\"text-align: right;\">\n",
       "      <th></th>\n",
       "      <th>CBP</th>\n",
       "      <th>DHS Net</th>\n",
       "      <th>DHS Total</th>\n",
       "      <th>FEMA</th>\n",
       "      <th>ICE</th>\n",
       "      <th>TSA</th>\n",
       "    </tr>\n",
       "    <tr>\n",
       "      <th>Year</th>\n",
       "      <th></th>\n",
       "      <th></th>\n",
       "      <th></th>\n",
       "      <th></th>\n",
       "      <th></th>\n",
       "      <th></th>\n",
       "    </tr>\n",
       "  </thead>\n",
       "  <tbody>\n",
       "    <tr>\n",
       "      <th>2008</th>\n",
       "      <td>100.00</td>\n",
       "      <td>100.00</td>\n",
       "      <td>100.00</td>\n",
       "      <td>106.05</td>\n",
       "      <td>100.00</td>\n",
       "      <td>100.00</td>\n",
       "    </tr>\n",
       "    <tr>\n",
       "      <th>2009</th>\n",
       "      <td>108.59</td>\n",
       "      <td>104.68</td>\n",
       "      <td>106.06</td>\n",
       "      <td>100.00</td>\n",
       "      <td>121.13</td>\n",
       "      <td>102.34</td>\n",
       "    </tr>\n",
       "    <tr>\n",
       "      <th>2010</th>\n",
       "      <td>128.14</td>\n",
       "      <td>111.60</td>\n",
       "      <td>114.95</td>\n",
       "      <td>118.77</td>\n",
       "      <td>128.33</td>\n",
       "      <td>108.40</td>\n",
       "    </tr>\n",
       "    <tr>\n",
       "      <th>2011</th>\n",
       "      <td>152.21</td>\n",
       "      <td>125.04</td>\n",
       "      <td>125.50</td>\n",
       "      <td>126.06</td>\n",
       "      <td>148.55</td>\n",
       "      <td>109.13</td>\n",
       "    </tr>\n",
       "    <tr>\n",
       "      <th>2012</th>\n",
       "      <td>152.97</td>\n",
       "      <td>129.79</td>\n",
       "      <td>130.68</td>\n",
       "      <td>128.25</td>\n",
       "      <td>140.03</td>\n",
       "      <td>117.06</td>\n",
       "    </tr>\n",
       "    <tr>\n",
       "      <th>2013</th>\n",
       "      <td>146.47</td>\n",
       "      <td>126.78</td>\n",
       "      <td>125.64</td>\n",
       "      <td>143.77</td>\n",
       "      <td>139.12</td>\n",
       "      <td>115.50</td>\n",
       "    </tr>\n",
       "    <tr>\n",
       "      <th>2014</th>\n",
       "      <td>150.94</td>\n",
       "      <td>137.04</td>\n",
       "      <td>135.22</td>\n",
       "      <td>232.67</td>\n",
       "      <td>141.02</td>\n",
       "      <td>116.09</td>\n",
       "    </tr>\n",
       "    <tr>\n",
       "      <th>2015</th>\n",
       "      <td>149.05</td>\n",
       "      <td>111.65</td>\n",
       "      <td>132.33</td>\n",
       "      <td>235.12</td>\n",
       "      <td>131.49</td>\n",
       "      <td>105.38</td>\n",
       "    </tr>\n",
       "    <tr>\n",
       "      <th>2016</th>\n",
       "      <td>155.96</td>\n",
       "      <td>115.12</td>\n",
       "      <td>133.04</td>\n",
       "      <td>212.22</td>\n",
       "      <td>136.93</td>\n",
       "      <td>107.10</td>\n",
       "    </tr>\n",
       "    <tr>\n",
       "      <th>2017</th>\n",
       "      <td>157.13</td>\n",
       "      <td>112.56</td>\n",
       "      <td>137.15</td>\n",
       "      <td>249.95</td>\n",
       "      <td>139.77</td>\n",
       "      <td>104.42</td>\n",
       "    </tr>\n",
       "    <tr>\n",
       "      <th>2018</th>\n",
       "      <td>160.41</td>\n",
       "      <td>114.75</td>\n",
       "      <td>139.45</td>\n",
       "      <td>295.81</td>\n",
       "      <td>137.12</td>\n",
       "      <td>104.98</td>\n",
       "    </tr>\n",
       "  </tbody>\n",
       "</table>\n",
       "</div>"
      ],
      "text/plain": [
       "         CBP  DHS Net  DHS Total    FEMA     ICE     TSA\n",
       "Year                                                    \n",
       "2008  100.00   100.00     100.00  106.05  100.00  100.00\n",
       "2009  108.59   104.68     106.06  100.00  121.13  102.34\n",
       "2010  128.14   111.60     114.95  118.77  128.33  108.40\n",
       "2011  152.21   125.04     125.50  126.06  148.55  109.13\n",
       "2012  152.97   129.79     130.68  128.25  140.03  117.06\n",
       "2013  146.47   126.78     125.64  143.77  139.12  115.50\n",
       "2014  150.94   137.04     135.22  232.67  141.02  116.09\n",
       "2015  149.05   111.65     132.33  235.12  131.49  105.38\n",
       "2016  155.96   115.12     133.04  212.22  136.93  107.10\n",
       "2017  157.13   112.56     137.15  249.95  139.77  104.42\n",
       "2018  160.41   114.75     139.45  295.81  137.12  104.98"
      ]
     },
     "execution_count": 6,
     "metadata": {},
     "output_type": "execute_result"
    }
   ],
   "source": [
    "df = pd.read_csv('dhsbudget-output.csv', index_col='Year', converters=converters)\n",
    "df"
   ]
  },
  {
   "cell_type": "markdown",
   "metadata": {},
   "source": [
    "What about the index?  Is it strings?"
   ]
  },
  {
   "cell_type": "code",
   "execution_count": 7,
   "metadata": {},
   "outputs": [
    {
     "data": {
      "text/plain": [
       "Int64Index([2008, 2009, 2010, 2011, 2012, 2013, 2014, 2015, 2016, 2017, 2018], dtype='int64', name='Year')"
      ]
     },
     "execution_count": 7,
     "metadata": {},
     "output_type": "execute_result"
    }
   ],
   "source": [
    "df.index"
   ]
  },
  {
   "cell_type": "markdown",
   "metadata": {},
   "source": [
    "## Make a graph from this data"
   ]
  },
  {
   "cell_type": "code",
   "execution_count": 11,
   "metadata": {},
   "outputs": [
    {
     "data": {
      "image/png": "[encoded data removed]",
      "text/plain": [
       "<Figure size 432x288 with 1 Axes>"
      ]
     },
     "metadata": {
      "needs_background": "light"
     },
     "output_type": "display_data"
    }
   ],
   "source": [
    "lines = df.plot.line(title='DHS agency percent growth')"
   ]
  },
  {
   "cell_type": "code",
   "execution_count": null,
   "metadata": {},
   "outputs": [],
   "source": []
  }
 ],
 "metadata": {
  "kernelspec": {
   "display_name": "Python 3",
   "language": "python",
   "name": "python3"
  }
 },
 "nbformat": 4,
 "nbformat_minor": 2
}
